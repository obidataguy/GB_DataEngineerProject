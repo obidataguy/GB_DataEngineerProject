{
 "cells": [
  {
   "cell_type": "markdown",
   "metadata": {
    "application/vnd.databricks.v1+cell": {
     "cellMetadata": {
      "byteLimit": 2048000,
      "rowLimit": 10000
     },
     "inputWidgets": {},
     "nuid": "2fcca278-ef04-4cf1-8962-8fade0538a4b",
     "showTitle": false,
     "title": ""
    }
   },
   "source": [
    "# TSS_EVENT Project - Text"
   ]
  },
  {
   "cell_type": "markdown",
   "metadata": {
    "application/vnd.databricks.v1+cell": {
     "cellMetadata": {
      "byteLimit": 2048000,
      "rowLimit": 10000
     },
     "inputWidgets": {},
     "nuid": "c75ab958-cb80-4632-8cb5-2b00e630c490",
     "showTitle": false,
     "title": ""
    }
   },
   "source": [
    "# Initialize Widget"
   ]
  },
  {
   "cell_type": "code",
   "execution_count": 0,
   "metadata": {
    "application/vnd.databricks.v1+cell": {
     "cellMetadata": {
      "byteLimit": 2048000,
      "rowLimit": 10000
     },
     "inputWidgets": {},
     "nuid": "f7a910ac-ee9e-4cac-9c43-1235349a39f8",
     "showTitle": false,
     "title": ""
    }
   },
   "outputs": [],
   "source": [
    "# dbutils.widgets.removeAll()"
   ]
  },
  {
   "cell_type": "code",
   "execution_count": 0,
   "metadata": {
    "application/vnd.databricks.v1+cell": {
     "cellMetadata": {
      "byteLimit": 2048000,
      "rowLimit": 10000
     },
     "inputWidgets": {},
     "nuid": "f818f6d0-a3de-4dd3-b6e4-f9cbf0cc729e",
     "showTitle": false,
     "title": ""
    }
   },
   "outputs": [],
   "source": [
    "dbutils.widgets.text(\"input_table\", \"default.tss_event_2019_02_27_12_13_46_01500_02999\", \" 1. Input Table\")\n",
    "dbutils.widgets.text(\"file_name\", \"tss_event_2019_02_27_12_13_46_01500_02999\", \" 2. File Name\")\n",
    "dbutils.widgets.text(\"output_schema_name\", \"greenbrier_projects\", \" 3. Output Schema Name\")\n",
    "dbutils.widgets.text(\"output_table_name\", \"movement\", \" 4. Output Table Name\")"
   ]
  },
  {
   "cell_type": "markdown",
   "metadata": {
    "application/vnd.databricks.v1+cell": {
     "cellMetadata": {
      "byteLimit": 2048000,
      "rowLimit": 10000
     },
     "inputWidgets": {},
     "nuid": "e8008671-6859-4885-b2be-46acf3a37636",
     "showTitle": false,
     "title": ""
    }
   },
   "source": [
    "# Run Common Functions Notebook\n",
    "This notebook contains functions and libraries we need"
   ]
  },
  {
   "cell_type": "code",
   "execution_count": 0,
   "metadata": {
    "application/vnd.databricks.v1+cell": {
     "cellMetadata": {
      "byteLimit": 2048000,
      "rowLimit": 10000
     },
     "inputWidgets": {},
     "nuid": "19485ba1-f11f-4c2b-add2-965aa7a3eae3",
     "showTitle": false,
     "title": ""
    }
   },
   "outputs": [],
   "source": [
    "%run \"./Common Functions\""
   ]
  },
  {
   "cell_type": "markdown",
   "metadata": {
    "application/vnd.databricks.v1+cell": {
     "cellMetadata": {
      "byteLimit": 2048000,
      "rowLimit": 10000
     },
     "inputWidgets": {},
     "nuid": "b1f3f80c-7dd9-49ca-9537-e948244a0497",
     "showTitle": false,
     "title": ""
    }
   },
   "source": [
    "# Define Notebook variables"
   ]
  },
  {
   "cell_type": "code",
   "execution_count": 0,
   "metadata": {
    "application/vnd.databricks.v1+cell": {
     "cellMetadata": {
      "byteLimit": 2048000,
      "rowLimit": 10000
     },
     "inputWidgets": {},
     "nuid": "590aa7e9-24d9-4b1d-bb2d-12a8daff1657",
     "showTitle": false,
     "title": ""
    }
   },
   "outputs": [],
   "source": [
    "INPUT_TABLE = dbutils.widgets.get(\"input_table\")\n",
    "FILE_NAME = dbutils.widgets.get(\"file_name\")\n",
    "OUTPUT_SCHEMA_NAME = dbutils.widgets.get(\"output_schema_name\")\n",
    "OUTPUT_TABLE_NAME = dbutils.widgets.get(\"output_table_name\")\n",
    "\n",
    "print(f\"INPUT_TABLE             = {INPUT_TABLE}\")\n",
    "print(f\"FILE_NAME               = {FILE_NAME}\")\n",
    "print(f\"OUTPUT_SCHEMA_NAME      = {OUTPUT_SCHEMA_NAME}\")\n",
    "print(f\"OUTPUT_TABLE_NAME       = {OUTPUT_TABLE_NAME}\")\n"
   ]
  },
  {
   "cell_type": "code",
   "execution_count": 0,
   "metadata": {
    "application/vnd.databricks.v1+cell": {
     "cellMetadata": {
      "byteLimit": 2048000,
      "rowLimit": 10000
     },
     "inputWidgets": {},
     "nuid": "d4965415-0b03-45d3-acac-25ad9139517b",
     "showTitle": false,
     "title": ""
    }
   },
   "outputs": [],
   "source": [
    "data_raw = spark.table(INPUT_TABLE)\n",
    "## or \n",
    "#data_raw = spark.sql(f\"select * from {INPUT_TABLE}\")\n",
    "print(data_raw.count())\n",
    "display(data_raw)"
   ]
  },
  {
   "cell_type": "markdown",
   "metadata": {
    "application/vnd.databricks.v1+cell": {
     "cellMetadata": {
      "byteLimit": 2048000,
      "rowLimit": 10000
     },
     "inputWidgets": {},
     "nuid": "d2d702be-3afe-4c53-b281-3a3dda07b512",
     "showTitle": false,
     "title": ""
    }
   },
   "source": [
    "# Extract all columns to form a dataframe\n",
    "\n",
    "Load function `reformat_text_data` from `Common Functions` notebook"
   ]
  },
  {
   "cell_type": "code",
   "execution_count": 0,
   "metadata": {
    "application/vnd.databricks.v1+cell": {
     "cellMetadata": {
      "byteLimit": 2048000,
      "rowLimit": 10000
     },
     "inputWidgets": {},
     "nuid": "d46379f0-c52e-48ea-9079-d9a1625d7bee",
     "showTitle": false,
     "title": ""
    }
   },
   "outputs": [],
   "source": [
    "schema = {\"equipment_initial\": (1,4), \"equipment_number\": (5,14), \"event_code\": (15,16), \"event_code_alpha\": (17,20)\n",
    "          ,\"cancel_date\": (21,30), \"event_date\": (31,48), \"fsac\": (49,54), \"load_empty\": (55,55)\n",
    "          ,\"train_id\": (56,65), \"company_abbreviation\": (66,69), \"carrier_abbreviation\": (70,73), \"waybill_id\": (74,99)\n",
    "          ,\"waybill_version\": (100,102), \"railroad_event_code\": (103,104), \"railroad_event_state_code\": (105,106), \"joint_service_code\": (107,107)\n",
    "          ,\"end_of_record_constant\": (108,108)\n",
    "          }\n",
    "\n",
    "df_reformed = reformat_text_data(data_raw, schema)\n",
    "display(df_reformed)"
   ]
  },
  {
   "cell_type": "markdown",
   "metadata": {
    "application/vnd.databricks.v1+cell": {
     "cellMetadata": {
      "byteLimit": 2048000,
      "rowLimit": 10000
     },
     "inputWidgets": {},
     "nuid": "9643f6ac-3cf8-449c-ae3b-3c5e1332fdb2",
     "showTitle": false,
     "title": ""
    }
   },
   "source": [
    "# Transformations"
   ]
  },
  {
   "cell_type": "markdown",
   "metadata": {
    "application/vnd.databricks.v1+cell": {
     "cellMetadata": {
      "byteLimit": 2048000,
      "rowLimit": 10000
     },
     "inputWidgets": {},
     "nuid": "5c1d53b9-ed33-4d00-bdf3-584d88ab517f",
     "showTitle": false,
     "title": ""
    }
   },
   "source": [
    "## Remove leading and trailing spaces from all columns except `train_id`\n",
    "\n",
    "Load function `remove_leading_trailing_spaces` from `Common Functions` notebook"
   ]
  },
  {
   "cell_type": "code",
   "execution_count": 0,
   "metadata": {
    "application/vnd.databricks.v1+cell": {
     "cellMetadata": {
      "byteLimit": 2048000,
      "rowLimit": 10000
     },
     "inputWidgets": {},
     "nuid": "c0f5ecca-2ea4-4fac-a3d1-461e075a4efd",
     "showTitle": false,
     "title": ""
    }
   },
   "outputs": [],
   "source": [
    "df_trim = remove_leading_trailing_spaces(df_reformed, 'train_id')\n",
    "display(df_trim.tail(10))"
   ]
  },
  {
   "cell_type": "markdown",
   "metadata": {
    "application/vnd.databricks.v1+cell": {
     "cellMetadata": {
      "byteLimit": 2048000,
      "rowLimit": 10000
     },
     "inputWidgets": {},
     "nuid": "3ca13a43-beca-417e-9adb-2069f5f064c3",
     "showTitle": false,
     "title": ""
    }
   },
   "source": [
    "## Convert datatypes"
   ]
  },
  {
   "cell_type": "code",
   "execution_count": 0,
   "metadata": {
    "application/vnd.databricks.v1+cell": {
     "cellMetadata": {
      "byteLimit": 2048000,
      "rowLimit": 10000
     },
     "inputWidgets": {},
     "nuid": "cb4d333e-4e15-487e-b8e5-611bce662e3b",
     "showTitle": false,
     "title": ""
    }
   },
   "outputs": [],
   "source": [
    "# from pyspark.sql.functions import to_date, substring\n",
    "# from pyspark.sql.types import DateType, IntegerType\n",
    "\n",
    "df_final = (df_trim.select('equipment_initial'\n",
    "                          ,col('equipment_number').cast(IntegerType())\n",
    "                          ,'event_code'\n",
    "                          ,'event_code_alpha'\n",
    "                          ,col('cancel_date').cast(DateType())\n",
    "                          ,to_date(substring('event_date',1,10)).alias('event_date')\n",
    "                          ,col('fsac').cast(IntegerType())\n",
    "                          ,'load_empty'\n",
    "                          ,'train_id'\n",
    "                          ,'company_abbreviation'\n",
    "                          ,'carrier_abbreviation'\n",
    "                          ,'waybill_id'\n",
    "                          ,'waybill_version'\n",
    "                          ,'railroad_event_code'\n",
    "                          ,'railroad_event_state_code'\n",
    "                          ,'joint_service_code'\n",
    "                          ,'end_of_record_constant'\n",
    "                        )\n",
    "           )\n",
    "display(df_final)"
   ]
  },
  {
   "cell_type": "markdown",
   "metadata": {
    "application/vnd.databricks.v1+cell": {
     "cellMetadata": {
      "byteLimit": 2048000,
      "rowLimit": 10000
     },
     "inputWidgets": {},
     "nuid": "e341655e-2c00-40a1-869a-f2cc75da1d64",
     "showTitle": false,
     "title": ""
    }
   },
   "source": [
    "# Checks"
   ]
  },
  {
   "cell_type": "markdown",
   "metadata": {
    "application/vnd.databricks.v1+cell": {
     "cellMetadata": {
      "byteLimit": 2048000,
      "rowLimit": 10000
     },
     "inputWidgets": {},
     "nuid": "fb692a98-98a7-47e1-8c4a-b722e502188a",
     "showTitle": false,
     "title": ""
    }
   },
   "source": [
    "## Check for nulls in `equipment_initial`,`equipment_number`,`event_code_alpha`,`event_date`"
   ]
  },
  {
   "cell_type": "code",
   "execution_count": 0,
   "metadata": {
    "application/vnd.databricks.v1+cell": {
     "cellMetadata": {
      "byteLimit": 2048000,
      "rowLimit": 10000
     },
     "inputWidgets": {},
     "nuid": "cf5ce356-3d2a-4e49-bc5c-9b858b1f70c3",
     "showTitle": false,
     "title": ""
    }
   },
   "outputs": [],
   "source": [
    "col_names = ('equipment_initial','equipment_number','event_code_alpha','event_date')\n",
    "\n",
    "for col in col_names:\n",
    "    assert_no_nulls(df_trim, col)"
   ]
  }
 ],
 "metadata": {
  "application/vnd.databricks.v1+notebook": {
   "dashboards": [],
   "environmentMetadata": null,
   "language": "python",
   "notebookMetadata": {
    "pythonIndentUnit": 4
   },
   "notebookName": "Greenbrier Project 02 - TSS_EVENT",
   "widgets": {
    "file_name": {
     "currentValue": "tss_event_2019_02_27_12_13_46_01500_02999",
     "nuid": "f10e54d3-2fc7-4d11-8577-9cad6c868c46",
     "typedWidgetInfo": null,
     "widgetInfo": {
      "defaultValue": "tss_event_2019_02_27_12_13_46_01500_02999",
      "label": " 2. File Name",
      "name": "file_name",
      "options": {
       "autoCreated": null,
       "validationRegex": null,
       "widgetType": "text"
      },
      "widgetType": "text"
     }
    },
    "input_table": {
     "currentValue": "default.tss_event_2019_02_27_12_13_46_01500_02999",
     "nuid": "65dbdeef-2d9e-42b1-b538-19b482053348",
     "typedWidgetInfo": null,
     "widgetInfo": {
      "defaultValue": "default.tss_event_2019_02_27_12_13_46_01500_02999",
      "label": " 1. Input Table",
      "name": "input_table",
      "options": {
       "autoCreated": null,
       "validationRegex": null,
       "widgetType": "text"
      },
      "widgetType": "text"
     }
    },
    "output_schema_name": {
     "currentValue": "greenbrier_projects",
     "nuid": "25895efa-0b9a-484d-9a1b-d24969bd0771",
     "typedWidgetInfo": null,
     "widgetInfo": {
      "defaultValue": "greenbrier_projects",
      "label": " 3. Output Schema Name",
      "name": "output_schema_name",
      "options": {
       "autoCreated": null,
       "validationRegex": null,
       "widgetType": "text"
      },
      "widgetType": "text"
     }
    },
    "output_table_name": {
     "currentValue": "tss_event",
     "nuid": "3516186c-e37b-4f31-aebc-799f0d19b3e0",
     "typedWidgetInfo": null,
     "widgetInfo": {
      "defaultValue": "movement",
      "label": " 4. Output Table Name",
      "name": "output_table_name",
      "options": {
       "autoCreated": null,
       "validationRegex": null,
       "widgetType": "text"
      },
      "widgetType": "text"
     }
    }
   }
  },
  "language_info": {
   "name": "python"
  }
 },
 "nbformat": 4,
 "nbformat_minor": 0
}
